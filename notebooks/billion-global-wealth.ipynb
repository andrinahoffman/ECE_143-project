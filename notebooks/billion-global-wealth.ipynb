{
 "cells": [
  {
   "cell_type": "code",
   "execution_count": null,
   "metadata": {},
   "outputs": [],
   "source": [
    "%load_ext autoreload\n",
    "%autoreload 2"
   ]
  },
  {
   "cell_type": "code",
   "execution_count": null,
   "metadata": {},
   "outputs": [],
   "source": [
    "# neccessary to import modules from src\n",
    "import os\n",
    "import sys\n",
    "module_path = os.path.abspath(os.path.join('..'))\n",
    "if module_path not in sys.path:\n",
    "    sys.path.append(module_path)"
   ]
  },
  {
   "cell_type": "code",
   "execution_count": null,
   "metadata": {},
   "outputs": [],
   "source": [
    "from pathlib import Path\n",
    "\n",
    "import cartopy\n",
    "from cartopy.io import shapereader\n",
    "import cartopy.crs as ccrs\n",
    "import geopandas\n",
    "import matplotlib.pyplot as plt\n",
    "import matplotlib\n",
    "import numpy as np\n",
    "import pandas as pd\n",
    "import seaborn as sns\n",
    "\n",
    "from src.scripts.read_parse import read_csv_data, parse_data_remove_useless_cols\n",
    "from src.scripts.analyze import parse_data_count_based_on_col, display_all_graphs\n",
    "from src.scripts.visualizations.globe_plotting import plot_global_data, plot_usastate_data"
   ]
  },
  {
   "cell_type": "code",
   "execution_count": null,
   "metadata": {},
   "outputs": [],
   "source": [
    "year = 2021\n",
    "\n",
    "billdf = read_csv_data(2021, '../src/data/')\n",
    "# data = pd.read_csv(f'../src/data/billionaires_{year}.csv')\n",
    "billdf = parse_data_remove_useless_cols(billdf)\n",
    "# state_counts = parse_data_count_based_on_col(data, 'state')"
   ]
  },
  {
   "cell_type": "code",
   "execution_count": null,
   "metadata": {},
   "outputs": [],
   "source": [
    "# from https://www.statsamerica.org/downloads/default.aspx\n",
    "uspopcount = pd.read_csv('../src/data/Population Estimates - US, States, Counties.csv')\n",
    "uspopcount2020 = uspopcount[uspopcount[\"Year\"] == 2020]"
   ]
  },
  {
   "cell_type": "code",
   "execution_count": null,
   "metadata": {},
   "outputs": [],
   "source": [
    "usbills = billdf[billdf[\"country\"] == \"United States\"].dropna(subset=[\"state\", \"realTimeWorth\"])"
   ]
  },
  {
   "cell_type": "code",
   "execution_count": null,
   "metadata": {},
   "outputs": [],
   "source": [
    "usbillsgrouped = usbills.groupby(\"state\").count()\n",
    "usbillsgrouped.head()"
   ]
  },
  {
   "cell_type": "code",
   "execution_count": null,
   "metadata": {},
   "outputs": [],
   "source": [
    "usbills_withpop = pd.merge(usbillsgrouped, uspopcount2020, left_on=\"state\", right_on=\"Description\")"
   ]
  },
  {
   "cell_type": "code",
   "execution_count": null,
   "metadata": {},
   "outputs": [],
   "source": [
    "# states = wortbillionsstates.index\n",
    "states = usbills_withpop[\"Description\"]\n",
    "# data = wortbillionsstates.values\n",
    "data = usbills_withpop[\"position\"] / usbills_withpop[\"Population\"]"
   ]
  },
  {
   "cell_type": "code",
   "execution_count": null,
   "metadata": {},
   "outputs": [],
   "source": [
    "plot_usastate_data(states, data, title=\"USA number of billionares per capita by state 2021\", cbar_label=\"number of billionares per capita\")"
   ]
  },
  {
   "cell_type": "code",
   "execution_count": null,
   "metadata": {},
   "outputs": [],
   "source": [
    "year = 2021\n",
    "\n",
    "billdf = read_csv_data(2021, '../src/data/')\n",
    "# data = pd.read_csv(f'../src/data/billionaires_{year}.csv')\n",
    "billdf = parse_data_remove_useless_cols(billdf)\n",
    "# state_counts = parse_data_count_based_on_col(data, 'state')"
   ]
  },
  {
   "cell_type": "code",
   "execution_count": null,
   "metadata": {},
   "outputs": [],
   "source": [
    "# unit is millions of dollars\n",
    "billdf_summed = billdf.groupby(\"country\").sum()\n",
    "billdf_summed.head()"
   ]
  },
  {
   "cell_type": "code",
   "execution_count": null,
   "metadata": {},
   "outputs": [],
   "source": [
    "globdf = pd.read_csv(\"../src/data/wealth-est-agg.csv\")"
   ]
  },
  {
   "cell_type": "code",
   "execution_count": null,
   "metadata": {},
   "outputs": [],
   "source": [
    "globdf_yr = globdf[globdf[\"year\"] == year]"
   ]
  },
  {
   "cell_type": "code",
   "execution_count": null,
   "metadata": {},
   "outputs": [],
   "source": [
    "mergeddf = pd.merge(billdf_summed, globdf_yr, on=\"country\")"
   ]
  },
  {
   "cell_type": "code",
   "execution_count": null,
   "metadata": {},
   "outputs": [],
   "source": [
    "mergeddf[\"ratios\"] = (mergeddf[\"realTimeWorth\"] * 1000000) / (mergeddf[\"total wealth\"] * 1000000000)"
   ]
  },
  {
   "cell_type": "code",
   "execution_count": null,
   "metadata": {},
   "outputs": [],
   "source": [
    "mergeddf_fixed = mergeddf[mergeddf[\"ratios\"] < 0.45]"
   ]
  },
  {
   "cell_type": "code",
   "execution_count": null,
   "metadata": {},
   "outputs": [],
   "source": [
    "mergeddf_fixed.head()"
   ]
  },
  {
   "cell_type": "code",
   "execution_count": null,
   "metadata": {},
   "outputs": [],
   "source": [
    "ratios = mergeddf_fixed[\"ratios\"]"
   ]
  },
  {
   "cell_type": "code",
   "execution_count": null,
   "metadata": {},
   "outputs": [],
   "source": [
    "country_name_fix = {\n",
    "    \"Hong Kong\": \"Hong Kong S.A.R.\",\n",
    "    \"Tanzania\": \"United Republic of Tanzania\",\n",
    "    \"United States\": \"United States of America\"\n",
    "}"
   ]
  },
  {
   "cell_type": "code",
   "execution_count": null,
   "metadata": {},
   "outputs": [],
   "source": [
    "plot_global_data(\n",
    "    mergeddf_fixed[\"country\"], ratios, country_name_map=country_name_fix,\n",
    "    title=\"Global comparison of total billionare to country total wealth in 2021\",\n",
    "    cbar_label=\"Total billionare to country total wealth ratio\"\n",
    ")"
   ]
  },
  {
   "cell_type": "code",
   "execution_count": null,
   "metadata": {},
   "outputs": [],
   "source": [
    "sorted_df = mergeddf_fixed.sort_values(\"ratios\", ascending=False)"
   ]
  },
  {
   "cell_type": "code",
   "execution_count": null,
   "metadata": {},
   "outputs": [],
   "source": [
    "sns.barplot(sorted_df.iloc[:10], x=\"country\", y=\"ratios\")\n",
    "plt.title(\"Top 10 countries with the highest total billionare to country wealth ratio\")\n",
    "plt.xlabel(\"Country\")\n",
    "plt.ylabel(\"Total billionare to country wealth ratio\")\n",
    "plt.xticks(rotation=35)\n",
    "plt.show()"
   ]
  },
  {
   "cell_type": "markdown",
   "metadata": {},
   "source": [
    "## scratch work below in case"
   ]
  },
  {
   "cell_type": "code",
   "execution_count": null,
   "metadata": {},
   "outputs": [],
   "source": [
    "# ripped straight from https://stackoverflow.com/questions/61460814/color-cartopy-map-countries-according-to-given-values\n",
    "# get global country data from natural earth data (http://www.naturalearthdata.com/)\n",
    "\n",
    "# get country borders\n",
    "resolution = '10m'\n",
    "category = 'cultural'\n",
    "name = 'admin_0_countries'\n",
    "shpfilename = shapereader.natural_earth(resolution, category, name)\n",
    "\n",
    "# read the shapefile using geopandas\n",
    "df = geopandas.read_file(shpfilename)"
   ]
  },
  {
   "cell_type": "code",
   "execution_count": null,
   "metadata": {},
   "outputs": [],
   "source": [
    "# Set up the canvas\n",
    "fig = plt.figure(figsize=(8, 6))\n",
    "central_lon, central_lat = 0, 0\n",
    "extent = [-180, 180, -70, 90]\n",
    "# ax = plt.axes(projection=cartopy.crs.Orthographic(central_lon, central_lat))\n",
    "ax = plt.axes(projection=cartopy.crs.PlateCarree(central_lon))\n",
    "ax.set_extent(extent)\n",
    "# ax.gridlines()\n",
    "\n",
    "# Add natural earth features and borders\n",
    "ax.add_feature(cartopy.feature.BORDERS, linestyle=':', alpha=1)\n",
    "ax.add_feature(cartopy.feature.OCEAN, facecolor=(\"lightblue\"))\n",
    "ax.add_feature(cartopy.feature.LAND)\n",
    "ax.coastlines(resolution='110m')\n",
    "\n",
    "# Insert your lists of countries and lag times here\n",
    "countries = mergeddf_fixed[\"country\"]\n",
    "\n",
    "# Normalise the lag times to between 0 and 1 to extract the colour\n",
    "ratios_norm = (ratios-np.nanmin(ratios))/(np.nanmax(ratios) - np.nanmin(ratios))\n",
    "\n",
    "# Choose your colourmap here\n",
    "cmap = matplotlib.colormaps.get_cmap('viridis')\n",
    "\n",
    "\n",
    "for country, ratio_norm in zip(countries, ratios_norm):\n",
    "    # read the borders of the country in this loop\n",
    "    if country in country_name_fix:\n",
    "        country = country_name_fix[country]\n",
    "    poly = df.loc[df['ADMIN'] == country]['geometry'].values[0]\n",
    "    # get the color for this country\n",
    "    rgba = cmap(ratio_norm)\n",
    "    # plot the country on a map\n",
    "    ax.add_geometries(poly, crs=ccrs.PlateCarree(), facecolor=rgba, edgecolor='none', zorder=1)\n",
    "\n",
    "# hacky way to generate scale of colorbar, invisible scatter plot\n",
    "dummy_scat = ax.scatter(ratios, ratios, c=ratios, cmap=cmap, zorder=0, s=0)\n",
    "fig.colorbar(mappable=dummy_scat, label='Total billionare to country total wealth ratio', orientation='horizontal', shrink=0.8)\n",
    "fig.suptitle(\"Global comparison of total billionare to country total wealth in 2021\")\n",
    "fig.tight_layout()\n",
    "plt.show()"
   ]
  },
  {
   "cell_type": "code",
   "execution_count": null,
   "metadata": {},
   "outputs": [],
   "source": []
  }
 ],
 "metadata": {
  "kernelspec": {
   "display_name": "ece143",
   "language": "python",
   "name": "python3"
  },
  "language_info": {
   "codemirror_mode": {
    "name": "ipython",
    "version": 3
   },
   "file_extension": ".py",
   "mimetype": "text/x-python",
   "name": "python",
   "nbconvert_exporter": "python",
   "pygments_lexer": "ipython3",
   "version": "3.10.13"
  }
 },
 "nbformat": 4,
 "nbformat_minor": 2
}
