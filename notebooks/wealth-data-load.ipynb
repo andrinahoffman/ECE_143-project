{
 "cells": [
  {
   "cell_type": "code",
   "execution_count": null,
   "metadata": {},
   "outputs": [],
   "source": [
    "# neccessary to import modules from src\n",
    "import os\n",
    "import sys\n",
    "module_path = os.path.abspath(os.path.join('..'))\n",
    "if module_path not in sys.path:\n",
    "    sys.path.append(module_path)"
   ]
  },
  {
   "cell_type": "code",
   "execution_count": null,
   "metadata": {},
   "outputs": [],
   "source": [
    "from pathlib import Path\n",
    "\n",
    "import pandas as pd\n",
    "\n",
    "from src.scripts.read_parse import convert_globwealth_raw, aggregate_globwealth_raw"
   ]
  },
  {
   "cell_type": "code",
   "execution_count": null,
   "metadata": {},
   "outputs": [],
   "source": [
    "df = aggregate_globwealth_raw(\"../src/data\", 2016, 2021)"
   ]
  },
  {
   "cell_type": "code",
   "execution_count": null,
   "metadata": {},
   "outputs": [],
   "source": [
    "df.to_csv(\"../src/data/wealth-est-agg.csv\", index=False)"
   ]
  },
  {
   "cell_type": "markdown",
   "metadata": {},
   "source": [
    "## scratch work underneath"
   ]
  },
  {
   "cell_type": "code",
   "execution_count": null,
   "metadata": {},
   "outputs": [],
   "source": [
    "years = range(2016, 2021 + 1)\n",
    "alldfs = []\n",
    "for y in years:\n",
    "    df = convert_globwealth_raw(f\"../src/data/wealth-est-{y}-raw.txt\")\n",
    "    df[\"year\"] = y\n",
    "    df.to_csv(f\"../src/data/wealth-est-{y}.csv\", index=False)\n",
    "    alldfs.append(df)\n",
    "df_agg = pd.concat(alldfs)\n"
   ]
  },
  {
   "cell_type": "code",
   "execution_count": null,
   "metadata": {},
   "outputs": [],
   "source": [
    "df_agg"
   ]
  },
  {
   "cell_type": "code",
   "execution_count": null,
   "metadata": {},
   "outputs": [],
   "source": [
    "year = 2021\n",
    "columns = [\n",
    "    \"country\",\n",
    "    \"adults\",\n",
    "    \"share of adults\",\n",
    "    \"total wealth\",\n",
    "    \"share of wealth\",\n",
    "    \"wealth per adult\",\n",
    "    \"financial wealth per adult\",\n",
    "    \"non-financial wealth per adult\",\n",
    "    \"debt per adult\",\n",
    "    \"median wealth per adult\",\n",
    "    \"estimation method\"\n",
    "]\n",
    "data = Path(f\"../src/data/wealth-est-{year}-raw.txt\")"
   ]
  },
  {
   "cell_type": "code",
   "execution_count": null,
   "metadata": {},
   "outputs": [],
   "source": [
    "dataarr = []\n",
    "with open(data, \"rt\") as f:\n",
    "    lines = f.readlines()\n",
    "    for line in lines:\n",
    "        line = line.strip()\n",
    "        lsplit = line.split()\n",
    "        currdata = []\n",
    "        currstr = []\n",
    "        for s in lsplit:\n",
    "            try:\n",
    "                num = float(s.replace(\",\", \"\"))\n",
    "                if len(currstr) > 0:\n",
    "                    currdata.append(\" \".join(currstr))\n",
    "                    currstr = []\n",
    "                currdata.append(num)\n",
    "            except ValueError:\n",
    "                currstr.append(s)\n",
    "        if len(currstr) > 0:\n",
    "            currdata.append(\" \".join(currstr))\n",
    "        if len(currdata) == len(columns):\n",
    "            dataarr.append(currdata)\n",
    "        else:\n",
    "            print(f\"error with line: {line}\")"
   ]
  },
  {
   "cell_type": "code",
   "execution_count": null,
   "metadata": {},
   "outputs": [],
   "source": [
    "df = pd.DataFrame(dataarr, columns=columns)"
   ]
  },
  {
   "cell_type": "code",
   "execution_count": null,
   "metadata": {},
   "outputs": [],
   "source": [
    "df"
   ]
  },
  {
   "cell_type": "code",
   "execution_count": null,
   "metadata": {},
   "outputs": [],
   "source": [
    "df.to_csv(f\"../src/data/wealth-est-{year}.csv\", index=False)"
   ]
  }
 ],
 "metadata": {
  "kernelspec": {
   "display_name": "ece143",
   "language": "python",
   "name": "python3"
  },
  "language_info": {
   "codemirror_mode": {
    "name": "ipython",
    "version": 3
   },
   "file_extension": ".py",
   "mimetype": "text/x-python",
   "name": "python",
   "nbconvert_exporter": "python",
   "pygments_lexer": "ipython3",
   "version": "3.9.18"
  }
 },
 "nbformat": 4,
 "nbformat_minor": 2
}
